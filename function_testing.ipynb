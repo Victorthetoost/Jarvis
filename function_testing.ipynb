{
 "cells": [
  {
   "cell_type": "code",
   "execution_count": 1,
   "id": "c8753a6a",
   "metadata": {},
   "outputs": [
    {
     "name": "stderr",
     "output_type": "stream",
     "text": [
      "100%|█████████████████████████████████████| 72.1M/72.1M [00:04<00:00, 16.2MiB/s]\n",
      "C:\\Users\\vitya\\AppData\\Local\\Packages\\PythonSoftwareFoundation.Python.3.13_qbz5n2kfra8p0\\LocalCache\\local-packages\\Python313\\site-packages\\whisper\\transcribe.py:132: UserWarning: FP16 is not supported on CPU; using FP32 instead\n",
      "  warnings.warn(\"FP16 is not supported on CPU; using FP32 instead\")\n"
     ]
    },
    {
     "name": "stdout",
     "output_type": "stream",
     "text": [
      " test test test I'm gonna be talking like this let's see how it handles when it's super loud and then also when I'm really close and it's super loud or when I'm pretty far away and it's kind of quiet let's see if it can handle a little bit of this a little bit of that some flaps and I think birthday party power off run function meeting at 5 p.m. in new Plaza Square you need a doctor's appointment pretty soon make sure you get that going don't forget to visit the birthday party at 7 p.m.\n"
     ]
    }
   ],
   "source": [
    "#first it decodes the message and writes it as a text file:\n",
    "import whisper\n",
    "\n",
    "model = whisper.load_model(\"tiny\")  # Options: tiny, base, small, medium, large\n",
    "\n",
    "result = model.transcribe(\"command_test.mp3\")\n",
    "print(result[\"text\"])"
   ]
  },
  {
   "cell_type": "markdown",
   "id": "6661e7e9",
   "metadata": {},
   "source": [
    "first lets see if it can do this in real time. \n",
    "to do this, since the model is trained on 30 second intervals we will need to break the audio up into 30 second chunks.\n",
    "then while its transcribing one section, it will be recording the next section, that way its going to be at most 30 seconds behind.\n",
    "it will save these 30 second chunks to a file, labeled with date and time and then it will search through the file for any new information\n"
   ]
  },
  {
   "cell_type": "code",
   "execution_count": 9,
   "id": "e3fd425c",
   "metadata": {},
   "outputs": [
    {
     "name": "stdout",
     "output_type": "stream",
     "text": [
      " test test test I'm gonna be talking like this let's see how it handles when it's super loud and then also when I'm really close and it's super loud or when I'm pretty far away and it's kind of quiet let's see if it can handle a little bit of this a little bit of that some flaps and I think birthday party power off run function meeting at 5 p.m. in new Plaza Square you need a doctor's appointment pretty soon make sure you get that going don't forget to visit the birthday party at 7 p.m.\n",
      "Recording audio for 10 seconds...\n",
      "Recorded audio saved as temp_recording.wav\n",
      "Converted to MP3 and saved as recording 2025-07-17 17-43-15.mp3\n",
      "Temporary WAV file 'temp_recording.wav' removed.\n",
      "Transcription complete and recording deleted.\n"
     ]
    }
   ],
   "source": [
    "#real time transcription to a file\n",
    "import threading\n",
    "import os\n",
    "import numpy as np\n",
    "import whisper\n",
    "import sounddevice as sd\n",
    "from scipy.io.wavfile import write\n",
    "from pydub import AudioSegment\n",
    "import time\n",
    "from datetime import datetime\n",
    "\n",
    "def record_audio_to_mp3(filename=\"output.mp3\", duration=30, samplerate=16000):\n",
    "    \n",
    "    print(f\"Recording audio for {duration} seconds...\")\n",
    "\n",
    "    # Record audio to a NumPy array\n",
    "    recording = sd.rec(int(duration * samplerate), samplerate=samplerate, channels=1, dtype='int16')\n",
    "    sd.wait()  # Wait until recording is finished\n",
    "\n",
    "    # Save the recorded audio to a temporary WAV file\n",
    "    temp_wav_filename = \"temp_recording.wav\"\n",
    "    write(temp_wav_filename, samplerate, recording)\n",
    "    print(f\"Recorded audio saved as {temp_wav_filename}\")\n",
    "\n",
    "    # Convert the WAV file to MP3 using pydub\n",
    "    audio = AudioSegment.from_wav(temp_wav_filename)\n",
    "    audio.export(filename, format=\"mp3\")\n",
    "    print(f\"Converted to MP3 and saved as {filename}\")\n",
    "\n",
    "    # Clean up the temporary WAV file (optional)\n",
    "    import os\n",
    "    os.remove(temp_wav_filename)\n",
    "    print(f\"Temporary WAV file '{temp_wav_filename}' removed.\")\n",
    "\n",
    "\n",
    "model = whisper.load_model(\"tiny\")  # Options: tiny, base, small, medium, large\n",
    "\n",
    "\n",
    "print(result[\"text\"])\n",
    "def record():\n",
    "    #record for 30 seconds\n",
    "    current_datetime = datetime.now()\n",
    "    date_time = current_datetime.strftime(\"%Y-%m-%d %H:%M:%S\")\n",
    "    date_time = date_time.replace(\":\", \"-\")  # Replace colons with dashes for filename compatibility\n",
    "    record_audio_to_mp3(filename= \"recording \" + date_time + \".mp3\", duration=10) \n",
    "    #transcribe\n",
    "    result = model.transcribe(\"recording \" + date_time + \".mp3\") \n",
    "    #write to file\n",
    "    with open(\"transcription.txt\", \"a\") as f:\n",
    "        f.write(result[\"text\"] + \"\\n\")\n",
    "    #delete the file\n",
    "    os.remove(\"recording \" + date_time + \".mp3\")\n",
    "    print(\"Transcription complete and recording deleted.\")\n",
    "    pass\n",
    "\n",
    "my_thread = threading.Thread(target=record, args=()) #set up the thread with the target function and its arguments\n",
    "my_thread.start() #calls the start method to begin execution of the thread\n",
    "my_thread.join() #waits for the thread to finish before continuing execution of the main program"
   ]
  },
  {
   "cell_type": "code",
   "execution_count": null,
   "id": "6c5484b5",
   "metadata": {},
   "outputs": [],
   "source": [
    "#code words and new information"
   ]
  }
 ],
 "metadata": {
  "kernelspec": {
   "display_name": "Python 3",
   "language": "python",
   "name": "python3"
  },
  "language_info": {
   "codemirror_mode": {
    "name": "ipython",
    "version": 3
   },
   "file_extension": ".py",
   "mimetype": "text/x-python",
   "name": "python",
   "nbconvert_exporter": "python",
   "pygments_lexer": "ipython3",
   "version": "3.13.5"
  }
 },
 "nbformat": 4,
 "nbformat_minor": 5
}
