{
 "cells": [
  {
   "cell_type": "code",
   "execution_count": 1,
   "id": "c8753a6a",
   "metadata": {},
   "outputs": [
    {
     "name": "stderr",
     "output_type": "stream",
     "text": [
      "100%|█████████████████████████████████████| 72.1M/72.1M [00:04<00:00, 16.2MiB/s]\n",
      "C:\\Users\\vitya\\AppData\\Local\\Packages\\PythonSoftwareFoundation.Python.3.13_qbz5n2kfra8p0\\LocalCache\\local-packages\\Python313\\site-packages\\whisper\\transcribe.py:132: UserWarning: FP16 is not supported on CPU; using FP32 instead\n",
      "  warnings.warn(\"FP16 is not supported on CPU; using FP32 instead\")\n"
     ]
    },
    {
     "name": "stdout",
     "output_type": "stream",
     "text": [
      " test test test I'm gonna be talking like this let's see how it handles when it's super loud and then also when I'm really close and it's super loud or when I'm pretty far away and it's kind of quiet let's see if it can handle a little bit of this a little bit of that some flaps and I think birthday party power off run function meeting at 5 p.m. in new Plaza Square you need a doctor's appointment pretty soon make sure you get that going don't forget to visit the birthday party at 7 p.m.\n"
     ]
    }
   ],
   "source": [
    "#first it decodes the message and writes it as a text file:\n",
    "import whisper\n",
    "\n",
    "model = whisper.load_model(\"tiny\")  # Options: tiny, base, small, medium, large\n",
    "\n",
    "result = model.transcribe(\"command_test.mp3\")\n",
    "print(result[\"text\"])"
   ]
  },
  {
   "cell_type": "markdown",
   "id": "6661e7e9",
   "metadata": {},
   "source": [
    "first lets see if it can do this in real time. \n",
    "to do this, since the model is trained on 30 second intervals we will need to break the audio up into 30 second chunks.\n",
    "then while its transcribing one section, it will be recording the next section, that way its going to be at most 30 seconds behind.\n",
    "it will save these 30 second chunks to a file, labeled with date and time and then it will search through the file for any new information\n"
   ]
  },
  {
   "cell_type": "code",
   "execution_count": null,
   "id": "6c5484b5",
   "metadata": {},
   "outputs": [],
   "source": [
    "#code words and new information\n",
    "# first it will look throught the transcript for any new information.\n",
    "# it will do this any time that there is a break in the transcription.\n",
    "# every 5 minutes it will check through the transcript to see if there is a break with no new text\n",
    "# if there isnt, then it will look through from the last time it checked, up to the current time.\n",
    "\n"
   ]
  },
  {
   "cell_type": "code",
   "execution_count": null,
   "id": "19c40b49",
   "metadata": {},
   "outputs": [],
   "source": [
    "# ok so openai just costs literally nothing to use so i will just transcribe the audio, and\n",
    "# then ask it to take all the events and stuff that it finds and return it as a csv file, \n",
    "# updating once a hour. \n"
   ]
  },
  {
   "cell_type": "code",
   "execution_count": 136,
   "id": "5170e33d",
   "metadata": {},
   "outputs": [],
   "source": [
    "import datetime\n",
    "import re\n",
    "import itertools\n",
    "\n",
    "\n",
    "database = \"Transcription.txt\"\n",
    "\n",
    "def remove_filler(text):\n",
    "    fillers = [\n",
    "        \"uh\", \"um\", \"okay\", \"ok\", \"so\", \"actually\", \"anyways\", \"just\", \"basically\", \"kinda\",\n",
    "        \"sort of\", \"I mean\", \"you know\", \"let me\", \"oh\", \"like\", \"gonna\", \"got to\", \"gotta\",\n",
    "        \"wanna\", \"thanks\", \"thank you\", \"thanks for\", \"thanks for that\", \"right\", \"well\",\n",
    "        \"you see\", \"I guess\", \"I think\", \"I suppose\", \"if you will\", \"I mean to say\",\n",
    "        \"in other words\", \"to be honest\", \"to tell the truth\", \"frankly\", \"honestly\", \"seriously\",\n",
    "        \"i think\", \"i guess\", \"i mean\", \"you know what i mean\", \"you know what i mean?\",\n",
    "        \"you know\", \"you know?\", \"you know what i mean\", \"kind of\", \"sort of\",\n",
    "        \"like i said\", \"like i was saying\", \"like i said before\", \"like i said earlier\",\n",
    "        \"like i mentioned\", \"like i mentioned before\", \"like i mentioned earlier\", \"i feel like\",\n",
    "        \"i feel like i need to\", \"i feel like i should\", \"i feel like i could\",\n",
    "        \"i feel like i would\", \"i feel like i might\", \"i feel like i can\",\n",
    "        \"i feel like i will\", \"i feel like i am\", \"i feel like i have to\", \"um\",\n",
    "        \"uhm\", \"uh-huh\", \"yeah\", \"yep\", \"yes\", \"no\", \"nah\", \"nope\",\"thanks for watching\",\n",
    "        \"thanks for watching\",\"thanks for watching\",\n",
    "        \"right?\", \"isn't it?\", \"don't you think?\", \"you know what I mean?\", \"hello\",\n",
    "        \"hi\", \"hey\", \"how are you?\", \"how's it going?\", \"how's everything?\", \"how's life?\",\n",
    "        \"whats up?\", \"what's going on?\", \"what's new?\", \"what's happening?\",\n",
    "        \"what's good?\", \"what's up with you?\", \"what's up with that?\", \"what's up with this?\",\n",
    "        \"what's up with everything?\", \"what's up with life?\", \"what's up with the world?\", \"watching\"\n",
    "    ]\n",
    "\n",
    "    # Sort by length to match longer phrases first\n",
    "\n",
    "    fillers = sorted(fillers, key=len, reverse=True)\n",
    "    for filler in fillers:\n",
    "\n",
    "        # Remove filler word/phrase with optional leading/trailing spaces and punctuation\n",
    "\n",
    "        text = re.sub(rf'(\\s|^|[.,!?;:]){re.escape(filler)}(\\s|[.,!?;:]|$)', ' ', text, flags=re.IGNORECASE)\n",
    "\n",
    "    # Clean extra spaces and punctuation\n",
    "\n",
    "    text = re.sub(r'\\s+', ' ', text)\n",
    "    text = re.sub(r'\\s([.,!?;:])', r'\\1', text)\n",
    "    return text.strip()\n",
    "\n",
    "datetime_now = datetime.datetime.now().strftime(\"%Y-%m-%d_%H\")\n",
    "# we only need to do this once ever hour so it uses less resources.\n",
    "#cleaning step:\n",
    "cleaned_file_name = (f\"cleaned_transcription\" + datetime_now + \".txt\")\n",
    "\n",
    "last_break = 1\n",
    "\n",
    "with open(database, \"r\") as f:\n",
    "    lines = f.readlines()\n",
    "    count = 0\n",
    "    for line in lines:\n",
    "        count += 1\n",
    "        if \"--------------------\" in line:\n",
    "            last_break = count\n",
    "\n",
    "\n",
    "with open(database, \"r\") as f:\n",
    "    for line in itertools.islice(f, last_break, None):\n",
    "        \n",
    "        sentence = line.strip()\n",
    "\n",
    "        #removes timestamp \n",
    "\n",
    "        sentence = re.sub(r'^\\[\\d{4}-\\d{2}-\\d{2} \\d{2}:\\d{2}:\\d{2}\\]\\s*', '', sentence)\n",
    "        sentence = remove_filler(sentence)\n",
    "\n",
    "        if sentence == \"\": #if its empty, skip it\n",
    "            continue\n",
    "        \n",
    "        \n",
    "        with open(cleaned_file_name, \"a\") as cleaned_file:\n",
    "            cleaned_file.write(sentence + \"\\n\")\n",
    "with open(database, \"a\") as f:\n",
    "    f.write(\"-\" * 20 + \"\\n\")\n",
    "\n"
   ]
  },
  {
   "cell_type": "code",
   "execution_count": null,
   "id": "7debf613",
   "metadata": {},
   "outputs": [
    {
     "name": "stdout",
     "output_type": "stream",
     "text": [
      "CSV saved as: extraction_2025-07-21_16.csv\n"
     ]
    }
   ],
   "source": [
    "# api testing\n",
    "import os\n",
    "import openai\n",
    "from openai import OpenAI\n",
    "from dotenv import load_dotenv, find_dotenv\n",
    "from datetime import datetime\n",
    "\n",
    "with open(cleaned_file_name, \"r\") as f:\\\n",
    "    transcript = f.read()\n",
    "\n",
    "#load api key\n",
    "_ = load_dotenv(find_dotenv())\n",
    "client = OpenAI(api_key=os.environ.get(\"OPENAI_API_KEY\"))\n",
    " \n",
    "temperature = 0.3\n",
    "variables = \"event_name,event_date_start,event_date_end,start_time,end_time,event_location,important_details,people_attending\"\n",
    "response = openai.chat.completions.create(\n",
    "    model = \"gpt-4o\",\n",
    "    messages=[\n",
    "        {\"role\": \"system\", \"content\": \"You are an event extraction assistant.\"},\n",
    "        {\"role\": \"user\", \"content\": \"Extract all events from this transcript: \\n\" + transcript + \n",
    "        \"\\n and return it as a csv file formatted like this: \\n\" + variables + \"\\n\" +\n",
    "        \"give just the csv, no filler text, with the dates being formatted as numbers like this: year-month-day (assume current year month and day unless otherwise specified) and times being formatted as hour:min \\n\"}\n",
    "    ]\n",
    ")\n",
    "csv_content = response.choices[0].message.content\n",
    "\n",
    "#saves to csv file for later use.\n",
    "timestamp = datetime.now().strftime(\"%Y-%m-%d_%H\")\n",
    "filename = f\"extraction_{timestamp}.csv\"\n",
    "\n",
    "\n",
    "with open(filename, 'w', encoding='utf-8') as f:\n",
    "    f.write(csv_content)\n",
    "\n",
    "print(f\"CSV saved as: {filename}\")\n",
    "os.remove(cleaned_file_name)"
   ]
  },
  {
   "cell_type": "code",
   "execution_count": 134,
   "id": "68df2966",
   "metadata": {},
   "outputs": [
    {
     "name": "stdout",
     "output_type": "stream",
     "text": [
      "First line: ```csv\n",
      "First line is not correct, cleaning CSV...\n"
     ]
    }
   ],
   "source": [
    "def clean_csv(filename):\n",
    "    with open(filename, \"r\", encoding=\"utf-8\") as f:\n",
    "        lines = f.readlines()\n",
    "    # Remove first and last lines \n",
    "    lines = lines[1:-1]\n",
    "    with open(filename, \"w\", encoding=\"utf-8\") as f:\n",
    "        f.writelines(lines)\n",
    "\n",
    "with open(filename, \"r\", encoding=\"utf-8\") as f:\n",
    "    first_line = f.readline().strip()\n",
    "    print(f\"First line: {first_line.strip()}\")\n",
    "    if first_line != variables:\n",
    "        print(\"First line is not correct, cleaning CSV...\")\n",
    "        clean_csv(filename)"
   ]
  },
  {
   "cell_type": "code",
   "execution_count": 2,
   "id": "ee720a44",
   "metadata": {},
   "outputs": [
    {
     "data": {
      "text/html": [
       "<div>\n",
       "<style scoped>\n",
       "    .dataframe tbody tr th:only-of-type {\n",
       "        vertical-align: middle;\n",
       "    }\n",
       "\n",
       "    .dataframe tbody tr th {\n",
       "        vertical-align: top;\n",
       "    }\n",
       "\n",
       "    .dataframe thead th {\n",
       "        text-align: right;\n",
       "    }\n",
       "</style>\n",
       "<table border=\"1\" class=\"dataframe\">\n",
       "  <thead>\n",
       "    <tr style=\"text-align: right;\">\n",
       "      <th></th>\n",
       "      <th>event_name</th>\n",
       "      <th>event_date_start</th>\n",
       "      <th>event_date_end</th>\n",
       "      <th>start_time</th>\n",
       "      <th>end_time</th>\n",
       "      <th>event_location</th>\n",
       "      <th>important_details</th>\n",
       "      <th>people_attending</th>\n",
       "    </tr>\n",
       "  </thead>\n",
       "  <tbody>\n",
       "    <tr>\n",
       "      <th>Birthday Party</th>\n",
       "      <td>2029-08-02</td>\n",
       "      <td>2029-08-02</td>\n",
       "      <td>NaN</td>\n",
       "      <td>NaN</td>\n",
       "      <td>NaN</td>\n",
       "      <td>It's going to be cold</td>\n",
       "      <td>bring the coat; Also I Transformers</td>\n",
       "      <td>Donov; Manay; Prathul; my brother</td>\n",
       "    </tr>\n",
       "  </tbody>\n",
       "</table>\n",
       "</div>"
      ],
      "text/plain": [
       "                event_name event_date_start  event_date_end  start_time  \\\n",
       "Birthday Party  2029-08-02       2029-08-02             NaN         NaN   \n",
       "\n",
       "                end_time         event_location  \\\n",
       "Birthday Party       NaN  It's going to be cold   \n",
       "\n",
       "                                   important_details  \\\n",
       "Birthday Party   bring the coat; Also I Transformers   \n",
       "\n",
       "                                 people_attending  \n",
       "Birthday Party  Donov; Manay; Prathul; my brother  "
      ]
     },
     "execution_count": 2,
     "metadata": {},
     "output_type": "execute_result"
    }
   ],
   "source": [
    "import pandas as pd\n",
    "data = pd.read_csv(\"extraction_2025-08-01_15.csv\")\n",
    "data.head()"
   ]
  },
  {
   "cell_type": "code",
   "execution_count": null,
   "id": "50dee57a",
   "metadata": {},
   "outputs": [],
   "source": []
  }
 ],
 "metadata": {
  "kernelspec": {
   "display_name": "Python 3",
   "language": "python",
   "name": "python3"
  },
  "language_info": {
   "codemirror_mode": {
    "name": "ipython",
    "version": 3
   },
   "file_extension": ".py",
   "mimetype": "text/x-python",
   "name": "python",
   "nbconvert_exporter": "python",
   "pygments_lexer": "ipython3",
   "version": "3.13.5"
  }
 },
 "nbformat": 4,
 "nbformat_minor": 5
}
